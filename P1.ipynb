{
 "cells": [
  {
   "cell_type": "markdown",
   "metadata": {},
   "source": [
    "# Self-Driving Car Engineer Nanodegree\n",
    "\n",
    "\n",
    "## Project: **Finding Lane Lines on the Road** \n",
    "***\n",
    "In this project, you will use the tools you learned about in the lesson to identify lane lines on the road.  You can develop your pipeline on a series of individual images, and later apply the result to a video stream (really just a series of images). Check out the video clip \"raw-lines-example.mp4\" (also contained in this repository) to see what the output should look like after using the helper functions below. \n",
    "\n",
    "Once you have a result that looks roughly like \"raw-lines-example.mp4\", you'll need to get creative and try to average and/or extrapolate the line segments you've detected to map out the full extent of the lane lines.  You can see an example of the result you're going for in the video \"P1_example.mp4\".  Ultimately, you would like to draw just one line for the left side of the lane, and one for the right.\n",
    "\n",
    "In addition to implementing code, there is a brief writeup to complete. The writeup should be completed in a separate file, which can be either a markdown file or a pdf document. There is a [write up template](https://github.com/udacity/CarND-LaneLines-P1/blob/master/writeup_template.md) that can be used to guide the writing process. Completing both the code in the Ipython notebook and the writeup template will cover all of the [rubric points](https://review.udacity.com/#!/rubrics/322/view) for this project.\n",
    "\n",
    "---\n",
    "Let's have a look at our first image called 'test_images/solidWhiteRight.jpg'.  Run the 2 cells below (hit Shift-Enter or the \"play\" button above) to display the image.\n",
    "\n",
    "**Note: If, at any point, you encounter frozen display windows or other confounding issues, you can always start again with a clean slate by going to the \"Kernel\" menu above and selecting \"Restart & Clear Output\".**\n",
    "\n",
    "---"
   ]
  },
  {
   "cell_type": "markdown",
   "metadata": {},
   "source": [
    "**The tools you have are color selection, region of interest selection, grayscaling, Gaussian smoothing, Canny Edge Detection and Hough Tranform line detection.  You  are also free to explore and try other techniques that were not presented in the lesson.  Your goal is piece together a pipeline to detect the line segments in the image, then average/extrapolate them and draw them onto the image for display (as below).  Once you have a working pipeline, try it out on the video stream below.**\n",
    "\n",
    "---\n",
    "\n",
    "<figure>\n",
    " <img src=\"line-segments-example.jpg\" width=\"380\" alt=\"Combined Image\" />\n",
    " <figcaption>\n",
    " <p></p> \n",
    " <p style=\"text-align: center;\"> Your output should look something like this (above) after detecting line segments using the helper functions below </p> \n",
    " </figcaption>\n",
    "</figure>\n",
    " <p></p> \n",
    "<figure>\n",
    " <img src=\"laneLines_thirdPass.jpg\" width=\"380\" alt=\"Combined Image\" />\n",
    " <figcaption>\n",
    " <p></p> \n",
    " <p style=\"text-align: center;\"> Your goal is to connect/average/extrapolate line segments to get output like this</p> \n",
    " </figcaption>\n",
    "</figure>"
   ]
  },
  {
   "cell_type": "markdown",
   "metadata": {},
   "source": [
    "**Run the cell below to import some packages.  If you get an `import error` for a package you've already installed, try changing your kernel (select the Kernel menu above --> Change Kernel).  Still have problems?  Try relaunching Jupyter Notebook from the terminal prompt.  Also, see [this forum post](https://carnd-forums.udacity.com/cq/viewquestion.action?spaceKey=CAR&id=29496372&questionTitle=finding-lanes---import-cv2-fails-even-though-python-in-the-terminal-window-has-no-problem-with-import-cv2) for more troubleshooting tips.**  "
   ]
  },
  {
   "cell_type": "markdown",
   "metadata": {},
   "source": [
    "## Import Packages"
   ]
  },
  {
   "cell_type": "code",
   "execution_count": 14,
   "metadata": {
    "ExecuteTime": {
     "end_time": "2017-01-24T02:22:32.329623",
     "start_time": "2017-01-24T02:22:32.323701"
    },
    "collapsed": false
   },
   "outputs": [],
   "source": [
    "#importing some useful packages\n",
    "import matplotlib.pyplot as plt\n",
    "import matplotlib.image as mpimg\n",
    "import numpy as np\n",
    "import cv2\n",
    "%matplotlib inline"
   ]
  },
  {
   "cell_type": "markdown",
   "metadata": {},
   "source": [
    "## Read in an Image"
   ]
  },
  {
   "cell_type": "code",
   "execution_count": null,
   "metadata": {
    "ExecuteTime": {
     "end_time": "2017-01-24T02:22:32.657520",
     "start_time": "2017-01-24T02:22:32.331397"
    },
    "collapsed": false
   },
   "outputs": [],
   "source": [
    "#reading in an image\n",
    "image = mpimg.imread('test_images/solidWhiteRight.jpg')\n",
    "\n",
    "#printing out some stats and plotting\n",
    "print('This image is:', type(image), 'with dimesions:', image.shape)\n",
    "plt.imshow(image)  # if you wanted to show a single color channel image called 'gray', for example, call as plt.imshow(gray, cmap='gray')"
   ]
  },
  {
   "cell_type": "markdown",
   "metadata": {},
   "source": [
    "## Ideas for Lane Detection Pipeline"
   ]
  },
  {
   "cell_type": "markdown",
   "metadata": {},
   "source": [
    "**Some OpenCV functions (beyond those introduced in the lesson) that might be useful for this project are:**\n",
    "\n",
    "`cv2.inRange()` for color selection  \n",
    "`cv2.fillPoly()` for regions selection  \n",
    "`cv2.line()` to draw lines on an image given endpoints  \n",
    "`cv2.addWeighted()` to coadd / overlay two images\n",
    "`cv2.cvtColor()` to grayscale or change color\n",
    "`cv2.imwrite()` to output images to file  \n",
    "`cv2.bitwise_and()` to apply a mask to an image\n",
    "\n",
    "**Check out the OpenCV documentation to learn about these and discover even more awesome functionality!**"
   ]
  },
  {
   "cell_type": "markdown",
   "metadata": {},
   "source": [
    "## Helper Functions"
   ]
  },
  {
   "cell_type": "markdown",
   "metadata": {},
   "source": [
    "Below are some helper functions to help get you started. They should look familiar from the lesson!"
   ]
  },
  {
   "cell_type": "code",
   "execution_count": null,
   "metadata": {
    "ExecuteTime": {
     "end_time": "2017-01-24T02:22:33.108061",
     "start_time": "2017-01-24T02:22:32.659000"
    },
    "collapsed": false,
    "run_control": {
     "marked": false
    }
   },
   "outputs": [],
   "source": [
    "import math\n",
    "\n",
    "def grayscale(img):\n",
    "    \"\"\"Applies the Grayscale transform\n",
    "    This will return an image with only one color channel\n",
    "    but NOTE: to see the returned image as grayscale\n",
    "    (assuming your grayscaled image is called 'gray')\n",
    "    you should call plt.imshow(gray, cmap='gray')\"\"\"\n",
    "    return cv2.cvtColor(img, cv2.COLOR_RGB2GRAY)\n",
    "    # Or use BGR2GRAY if you read an image with cv2.imread()\n",
    "    # return cv2.cvtColor(img, cv2.COLOR_BGR2GRAY)\n",
    "    \n",
    "def canny(img, low_threshold, high_threshold):\n",
    "    \"\"\"Applies the Canny transform\"\"\"\n",
    "    return cv2.Canny(img, low_threshold, high_threshold)\n",
    "\n",
    "def gaussian_blur(img, kernel_size):\n",
    "    \"\"\"Applies a Gaussian Noise kernel\"\"\"\n",
    "    return cv2.GaussianBlur(img, (kernel_size, kernel_size), 0)\n",
    "\n",
    "def region_of_interest(img, vertices):\n",
    "    \"\"\"\n",
    "    Applies an image mask.\n",
    "    \n",
    "    Only keeps the region of the image defined by the polygon\n",
    "    formed from `vertices`. The rest of the image is set to black.\n",
    "    \"\"\"\n",
    "    #defining a blank mask to start with\n",
    "    mask = np.zeros_like(img)   \n",
    "    \n",
    "    #defining a 3 channel or 1 channel color to fill the mask with depending on the input image\n",
    "    if len(img.shape) > 2:\n",
    "        channel_count = img.shape[2]  # i.e. 3 or 4 depending on your image\n",
    "        ignore_mask_color = (255,) * channel_count\n",
    "    else:\n",
    "        ignore_mask_color = 255\n",
    "        \n",
    "    #filling pixels inside the polygon defined by \"vertices\" with the fill color    \n",
    "    cv2.fillPoly(mask, vertices, ignore_mask_color)\n",
    "    \n",
    "    #returning the image only where mask pixels are nonzero\n",
    "    masked_image = cv2.bitwise_and(img, mask)\n",
    "    return masked_image\n",
    "\n",
    "\n",
    "def draw_lines(img, lines, color=[255, 0, 0], thickness=4):\n",
    "    \"\"\"\n",
    "    NOTE: this is the function you might want to use as a starting point once you want to \n",
    "    average/extrapolate the line segments you detect to map out the full\n",
    "    extent of the lane (going from the result shown in raw-lines-example.mp4\n",
    "    to that shown in P1_example.mp4).  \n",
    "    \n",
    "    Think about things like separating line segments by their \n",
    "    slope ((y2-y1)/(x2-x1)) to decide which segments are part of the left\n",
    "    line vs. the right line.  Then, you can average the position of each of \n",
    "    the lines and extrapolate to the top and bottom of the lane.\n",
    "    \n",
    "    This function draws `lines` with `color` and `thickness`.    \n",
    "    Lines are drawn on the image inplace (mutates the image).\n",
    "    If you want to make the lines semi-transparent, think about combining\n",
    "    this function with the weighted_img() function below\n",
    "    \"\"\"\n",
    "    left_lines = []\n",
    "    right_lines = []\n",
    "    suspending = []\n",
    "    \n",
    "    debug = False\n",
    "    shape= img.shape\n",
    "    \n",
    "    half_line = int(shape[1]/2)\n",
    "    \n",
    "    if debug:\n",
    "        cv2.line(img, (half_line,0), (half_line,shape[0]), (255,0,0), 4)\n",
    "\n",
    "\n",
    "    for line in lines:\n",
    "        for x1,y1,x2,y2 in line:\n",
    "            kk = (y2-y1)/(x2-x1)\n",
    "            #cv2.line(img, (x1, y1), (x2, y2), color, thickness)\n",
    "            if kk > 0 and x1 > half_line and x2> half_line and kk> 0.4 and kk< 0.9  : \n",
    "                right_lines.append((x1,y1,x2,y2))\n",
    "            elif kk < 0 and x1 < half_line and x2< half_line and kk> -0.9 and kk< -0.4:\n",
    "                left_lines.append((x1,y1,x2,y2))\n",
    "            else:\n",
    "                suspending.append((x1,y1,x2,y2))\n",
    "                \n",
    "    len_left = len(left_lines)\n",
    "    len_right = len(right_lines)\n",
    "    \n",
    "    yk1 = shape[0]\n",
    "    yk2 = int(shape[0]*20.0/32)\n",
    "    \n",
    "    thickness = 16\n",
    "    \n",
    "    if not len_left or not len_right:\n",
    "        pass\n",
    "        #raise Exception(\"lens not found!\")\n",
    "\n",
    "    if len_left:\n",
    "        x1_mean_left = int(sum([x1 for (x1,y1,x2,y2) in left_lines])/len_left)\n",
    "        y1_mean_left = int(sum([y1 for (x1,y1,x2,y2) in left_lines])/len_left)\n",
    "        x2_mean_left = int(sum([x2 for (x1,y1,x2,y2) in left_lines])/len_left)\n",
    "        y2_mean_left = int(sum([y2 for (x1,y1,x2,y2) in left_lines])/len_left)\n",
    "    \n",
    "        k1_left = (x2_mean_left - x1_mean_left)/ (y2_mean_left - y1_mean_left)\n",
    "        \n",
    "        \n",
    "        y0_mean_left = yk1\n",
    "        x0_mean_left = int(x1_mean_left - (y1_mean_left - y0_mean_left) * k1_left ) \n",
    "        y3_mean_left = yk2\n",
    "        x3_mean_left = int(x2_mean_left - (y2_mean_left - y3_mean_left) * k1_left )\n",
    "        cv2.line(img, (x0_mean_left, y0_mean_left), (x3_mean_left, y3_mean_left), color, thickness)\n",
    "\n",
    "\n",
    "    if len_right :\n",
    "        x1_mean_right = int(sum([x1 for (x1,y1,x2,y2) in right_lines])/len_right)\n",
    "        y1_mean_right = int(sum([y1 for (x1,y1,x2,y2) in right_lines])/len_right)\n",
    "        x2_mean_right = int(sum([x2 for (x1,y1,x2,y2) in right_lines])/len_right)\n",
    "        y2_mean_right = int(sum([y2 for (x1,y1,x2,y2) in right_lines])/len_right)\n",
    "        \n",
    "        k2_right = (x2_mean_right - x1_mean_right) / (y2_mean_right - y1_mean_right)\n",
    "        \n",
    "        y0_mean_right = yk1\n",
    "        x0_mean_right = int(x1_mean_right - (y1_mean_right- y0_mean_right) * k2_right)\n",
    "        y3_mean_right = yk2\n",
    "        x3_mean_right = int(x2_mean_right - (y2_mean_right - y3_mean_right) * k2_right)\n",
    "        cv2.line(img, (x0_mean_right, y0_mean_right), (x3_mean_right, y3_mean_right), color, thickness)\n",
    "\n",
    "        \n",
    "    # Output Lane Detecting result\n",
    "    if debug:\n",
    "        for x1,y1,x2,y2 in left_lines:\n",
    "            cv2.line(img, (x1, y1), (x2, y2), (0,255,0), 8)\n",
    "            \n",
    "        for x1,y1,x2,y2 in right_lines:\n",
    "            cv2.line(img, (x1, y1), (x2, y2), (0,0,255), 8)\n",
    "        \n",
    "        for x1,y1,x2,y2 in suspending:\n",
    "            cv2.line(img, (x1,y1), (x2,y2), (0,255,255),8)\n",
    "    \n",
    "    # Output Area of interest info\n",
    "    if debug:\n",
    "        v = np.array([[(int(shape[1]/16.0),shape[0]),\n",
    "                      (int(shape[1]*12.0/32), int(shape[0]*20.0/32)),\n",
    "                      (int(shape[1]*20.0/32), int(shape[0]*20.0/32)),\n",
    "                      (int(shape[1]*16.0/16),shape[0])]],\n",
    "                    dtype=np.int32)\n",
    "        cv2.line(img, tuple(v[0][0]), tuple(v[0][1]), (255,255,0), 4)\n",
    "        cv2.line(img, tuple(v[0][1]), tuple(v[0][2]), (255,255,0), 4)\n",
    "        cv2.line(img, tuple(v[0][2]), tuple(v[0][3]), (255,255,0), 4)\n",
    "        cv2.line(img, tuple(v[0][0]), tuple(v[0][3]), (255,255,0), 4)\n",
    "        \n",
    "        \n",
    "    # Output Text info \n",
    "    if debug:\n",
    "        font = cv2.FONT_HERSHEY_SIMPLEX\n",
    "        \n",
    "        if len_left:\n",
    "            cv2.putText(img,'k1= %4.3f' % (1.0/k1_left) ,(10,30), font, 1,(255,255,255),2,cv2.LINE_AA)\n",
    "            \n",
    "        if len_right:\n",
    "            cv2.putText(img,'k2= %4.3f' % (1.0/k2_right),(10,60), font, 1,(255,255,255),2,cv2.LINE_AA)\n",
    "        \n",
    "        cv2.putText(img,'n_left_lines = %d ' % len(left_lines),(10,90), font, 0.5,(255,255,255),2,cv2.LINE_AA)\n",
    "        cv2.putText(img,'n_right_lines = %d ' % len(right_lines),(10,120), font, 0.5,(255,255,255),2,cv2.LINE_AA)\n",
    "\n",
    "        ll = [ int(math.sqrt((y2-y1)*(y2-y1)+ (x2-x1)*(x2-x1))) for x1,y1,x2,y2 in left_lines]\n",
    "        kkl = [int(1000*(y2-y1)/(x2-x1)) for x1,y1,x2,y2 in left_lines]\n",
    "        \n",
    "        lr = [ int(math.sqrt((y2-y1)*(y2-y1)+ (x2-x1)*(x2-x1))) for x1,y1,x2,y2 in right_lines]\n",
    "        kkr = [ int(1000*(y2-y1)/(x2-x1)) for x1,y1,x2,y2 in right_lines]\n",
    "        \n",
    "        ls = [ int(math.sqrt((y2-y1)*(y2-y1)+ (x2-x1)*(x2-x1))) for x1,y1,x2,y2 in suspending]\n",
    "        kks = [ int(1000*(y2-y1)/(x2-x1)) for x1,y1,x2,y2 in suspending]\n",
    "\n",
    "\n",
    "        cv2.putText(img,'left_lenth = %s ' % (ll),(10,150), font, 0.8,(255,255,255),2,cv2.LINE_AA)\n",
    "        \n",
    "        cv2.putText(img,'left_k = %s ' % (kkl),(10,180), font, 0.8,(255,255,255),2,cv2.LINE_AA)\n",
    "        \n",
    "        cv2.putText(img,'right_lines = %s ' % (lr),(10,210), font, 0.8,(255,255,255),2,cv2.LINE_AA)\n",
    "        \n",
    "        cv2.putText(img,'right_k = %s ' % (kkr),(10,240), font, 0.8,(255,255,255),2,cv2.LINE_AA)\n",
    "        \n",
    "        cv2.putText(img,'suspending_length = %s ' % (ls),(10,270), font, 0.8,(255,255,255),2,cv2.LINE_AA)\n",
    "        \n",
    "        cv2.putText(img,'suspending_k = %s ' % (kks),(10,300), font, 0.8,(255,255,255),2,cv2.LINE_AA)\n",
    "\n",
    "\n",
    "\n",
    "def hough_lines(img, rho, theta, threshold, min_line_len, max_line_gap):\n",
    "    \"\"\"\n",
    "    `img` should be the output of a Canny transform.\n",
    "        \n",
    "    Returns an image with hough lines drawn.\n",
    "    \"\"\"\n",
    "    lines = cv2.HoughLinesP(img, rho, theta, threshold, np.array([]), minLineLength=min_line_len, maxLineGap=max_line_gap)\n",
    "    line_img = np.zeros((img.shape[0], img.shape[1], 3), dtype=np.uint8)\n",
    "    draw_lines(line_img, lines)\n",
    "    return line_img\n",
    "\n",
    "# Python 3 has support for cool math symbols.\n",
    "\n",
    "def weighted_img(img, initial_img, α=0.8, β=1., λ=0.):\n",
    "    \"\"\"\n",
    "    `img` is the output of the hough_lines(), An image with lines drawn on it.\n",
    "    Should be a blank image (all black) with lines drawn on it.\n",
    "    \n",
    "    `initial_img` should be the image before any processing.\n",
    "    \n",
    "    The result image is computed as follows:\n",
    "    \n",
    "    initial_img * α + img * β + λ\n",
    "    NOTE: initial_img and img must be the same shape!\n",
    "    \"\"\"\n",
    "    return cv2.addWeighted(initial_img, α, img, β, λ)"
   ]
  },
  {
   "cell_type": "markdown",
   "metadata": {},
   "source": [
    "## Test Images\n",
    "\n",
    "Build your pipeline to work on the images in the directory \"test_images\"  \n",
    "**You should make sure your pipeline works well on these images before you try the videos.**"
   ]
  },
  {
   "cell_type": "code",
   "execution_count": null,
   "metadata": {
    "ExecuteTime": {
     "end_time": "2017-01-24T02:22:33.116996",
     "start_time": "2017-01-24T02:22:33.109774"
    },
    "collapsed": false,
    "scrolled": true
   },
   "outputs": [],
   "source": [
    "import os\n",
    "os.listdir(\"test_images/\")"
   ]
  },
  {
   "cell_type": "markdown",
   "metadata": {},
   "source": [
    "## Build a Lane Finding Pipeline\n",
    "\n"
   ]
  },
  {
   "cell_type": "markdown",
   "metadata": {},
   "source": [
    "Build the pipeline and run your solution on all test_images. Make copies into the test_images directory, and you can use the images in your writeup report.\n",
    "\n",
    "Try tuning the various parameters, especially the low and high Canny thresholds as well as the Hough lines parameters."
   ]
  },
  {
   "cell_type": "code",
   "execution_count": null,
   "metadata": {
    "ExecuteTime": {
     "end_time": "2017-01-24T02:35:18.767718",
     "start_time": "2017-01-24T02:35:15.993801"
    },
    "collapsed": false,
    "run_control": {
     "marked": true
    },
    "scrolled": false
   },
   "outputs": [],
   "source": [
    "# TODO: Build your pipeline that will draw lane lines on the test_images\n",
    "# then save them to the test_images directory."
   ]
  },
  {
   "cell_type": "markdown",
   "metadata": {},
   "source": [
    "## Test on Videos\n",
    "\n",
    "You know what's cooler than drawing lanes over images? Drawing lanes over video!\n",
    "\n",
    "We can test our solution on two provided videos:\n",
    "\n",
    "`solidWhiteRight.mp4`\n",
    "\n",
    "`solidYellowLeft.mp4`\n",
    "\n",
    "**Note: if you get an `import error` when you run the next cell, try changing your kernel (select the Kernel menu above --> Change Kernel).  Still have problems?  Try relaunching Jupyter Notebook from the terminal prompt. Also, check out [this forum post](https://carnd-forums.udacity.com/questions/22677062/answers/22677109) for more troubleshooting tips.**\n",
    "\n",
    "**If you get an error that looks like this:**\n",
    "```\n",
    "NeedDownloadError: Need ffmpeg exe. \n",
    "You can download it by calling: \n",
    "imageio.plugins.ffmpeg.download()\n",
    "```\n",
    "**Follow the instructions in the error message and check out [this forum post](https://carnd-forums.udacity.com/display/CAR/questions/26218840/import-videofileclip-error) for more troubleshooting tips across operating systems.**"
   ]
  },
  {
   "cell_type": "code",
   "execution_count": 32,
   "metadata": {
    "ExecuteTime": {
     "end_time": "2017-01-24T02:35:18.772373",
     "start_time": "2017-01-24T02:35:18.769360"
    },
    "collapsed": true
   },
   "outputs": [],
   "source": [
    "# Import everything needed to edit/save/watch video clips\n",
    "from moviepy.editor import VideoFileClip\n",
    "from IPython.display import HTML"
   ]
  },
  {
   "cell_type": "code",
   "execution_count": 33,
   "metadata": {
    "ExecuteTime": {
     "end_time": "2017-01-24T02:35:18.804081",
     "start_time": "2017-01-24T02:35:18.774272"
    },
    "collapsed": true
   },
   "outputs": [],
   "source": [
    "def process_image(image):\n",
    "    # NOTE: The output you return should be a color image (3 channel) for processing video below\n",
    "    # TODO: put your pipeline here,\n",
    "    # you should return the final output (image where lines are drawn on lanes)\n",
    "\n",
    "    imshape = image.shape\n",
    "    vertices = np.array([[(int(imshape[1]/16.0),imshape[0]),\n",
    "                      (int(imshape[1]*12.0/32), int(imshape[0]*20.0/32)),\n",
    "                      (int(imshape[1]*20.0/32), int(imshape[0]*20.0/32)),\n",
    "                      (int(imshape[1]*16.0/16),imshape[0])]],\n",
    "                    dtype=np.int32)\n",
    "    \n",
    "    mask = region_of_interest(gray, vertices=vertices)\n",
    "    masked_edges = cv2.bitwise_and(edges, mask)\n",
    "\n",
    "    line_image = hough_lines(masked_edges, rho=rho, theta=theta, threshold=threshold,min_line_len=min_line_len,max_line_gap=max_line_gap)\n",
    "    \n",
    "    result = weighted_img(line_image, image,0.8, 1, 0)\n",
    "    \n",
    "    return result"
   ]
  },
  {
   "cell_type": "markdown",
   "metadata": {},
   "source": [
    "Let's try the one with the solid white lane on the right first ..."
   ]
  },
  {
   "cell_type": "code",
   "execution_count": 34,
   "metadata": {
    "ExecuteTime": {
     "end_time": "2017-01-24T02:35:22.358520",
     "start_time": "2017-01-24T02:35:18.808884"
    },
    "collapsed": false,
    "scrolled": false
   },
   "outputs": [
    {
     "name": "stdout",
     "output_type": "stream",
     "text": [
      "[MoviePy] >>>> Building video white.mp4\n",
      "[MoviePy] Writing video white.mp4\n"
     ]
    },
    {
     "name": "stderr",
     "output_type": "stream",
     "text": [
      "100%|█████████▉| 221/222 [00:02<00:00, 74.18it/s]\n"
     ]
    },
    {
     "name": "stdout",
     "output_type": "stream",
     "text": [
      "[MoviePy] Done.\n",
      "[MoviePy] >>>> Video ready: white.mp4 \n",
      "\n",
      "CPU times: user 3.14 s, sys: 707 ms, total: 3.85 s\n",
      "Wall time: 3.35 s\n"
     ]
    }
   ],
   "source": [
    "white_output = 'white.mp4'\n",
    "clip1 = VideoFileClip(\"solidWhiteRight.mp4\")\n",
    "white_clip = clip1.fl_image(process_image) #NOTE: this function expects color images!!\n",
    "%time white_clip.write_videofile(white_output, audio=False)"
   ]
  },
  {
   "cell_type": "markdown",
   "metadata": {},
   "source": [
    "Play the video inline, or if you prefer find the video in your filesystem (should be in the same directory) and play it in your video player of choice."
   ]
  },
  {
   "cell_type": "code",
   "execution_count": 35,
   "metadata": {
    "ExecuteTime": {
     "end_time": "2017-01-24T02:35:22.367453",
     "start_time": "2017-01-24T02:35:22.360778"
    },
    "collapsed": false
   },
   "outputs": [
    {
     "data": {
      "text/html": [
       "\n",
       "<video width=\"960\" height=\"540\" controls>\n",
       "  <source src=\"white.mp4\">\n",
       "</video>\n"
      ],
      "text/plain": [
       "<IPython.core.display.HTML object>"
      ]
     },
     "execution_count": 35,
     "metadata": {},
     "output_type": "execute_result"
    }
   ],
   "source": [
    "HTML(\"\"\"\n",
    "<video width=\"960\" height=\"540\" controls>\n",
    "  <source src=\"{0}\">\n",
    "</video>\n",
    "\"\"\".format(white_output))"
   ]
  },
  {
   "cell_type": "markdown",
   "metadata": {},
   "source": [
    "## Improve the draw_lines() function\n",
    "\n",
    "**At this point, if you were successful with making the pipeline and tuning parameters, you probably have the Hough line segments drawn onto the road, but what about identifying the full extent of the lane and marking it clearly as in the example video (P1_example.mp4)?  Think about defining a line to run the full length of the visible lane based on the line segments you identified with the Hough Transform. As mentioned previously, try to average and/or extrapolate the line segments you've detected to map out the full extent of the lane lines. You can see an example of the result you're going for in the video \"P1_example.mp4\".**\n",
    "\n",
    "**Go back and modify your draw_lines function accordingly and try re-running your pipeline. The new output should draw a single, solid line over the left lane line and a single, solid line over the right lane line. The lines should start from the bottom of the image and extend out to the top of the region of interest.**"
   ]
  },
  {
   "cell_type": "markdown",
   "metadata": {},
   "source": [
    "Now for the one with the solid yellow lane on the left. This one's more tricky!"
   ]
  },
  {
   "cell_type": "code",
   "execution_count": null,
   "metadata": {
    "ExecuteTime": {
     "end_time": "2017-01-24T02:22:33.466199",
     "start_time": "2017-01-23T18:22:32.356Z"
    },
    "collapsed": false
   },
   "outputs": [],
   "source": [
    "yellow_output = 'yellow.mp4'\n",
    "clip2 = VideoFileClip('solidYellowLeft.mp4')\n",
    "yellow_clip = clip2.fl_image(process_image)\n",
    "%time yellow_clip.write_videofile(yellow_output, audio=False)"
   ]
  },
  {
   "cell_type": "code",
   "execution_count": null,
   "metadata": {
    "ExecuteTime": {
     "end_time": "2017-01-24T02:22:33.466459",
     "start_time": "2017-01-23T18:22:32.361Z"
    },
    "collapsed": false
   },
   "outputs": [],
   "source": [
    "HTML(\"\"\"\n",
    "<video width=\"960\" height=\"540\" controls>\n",
    "  <source src=\"{0}\">\n",
    "</video>\n",
    "\"\"\".format(yellow_output))"
   ]
  },
  {
   "cell_type": "markdown",
   "metadata": {},
   "source": [
    "## Writeup and Submission\n",
    "\n",
    "If you're satisfied with your video outputs, it's time to make the report writeup in a pdf or markdown file. Once you have this Ipython notebook ready along with the writeup, it's time to submit for review! Here is a [link](https://github.com/udacity/CarND-LaneLines-P1/blob/master/writeup_template.md) to the writeup template file.\n"
   ]
  },
  {
   "cell_type": "markdown",
   "metadata": {
    "collapsed": true
   },
   "source": [
    "## Optional Challenge\n",
    "\n",
    "Try your lane finding pipeline on the video below.  Does it still work?  Can you figure out a way to make it more robust?  If you're up for the challenge, modify your pipeline so it works with this video and submit it along with the rest of your project!"
   ]
  },
  {
   "cell_type": "code",
   "execution_count": null,
   "metadata": {
    "ExecuteTime": {
     "end_time": "2017-01-24T02:22:33.466733",
     "start_time": "2017-01-23T18:22:32.365Z"
    },
    "collapsed": false
   },
   "outputs": [],
   "source": [
    "challenge_output = 'extra.mp4'\n",
    "clip2 = VideoFileClip('challenge.mp4')\n",
    "challenge_clip = clip2.fl_image(process_image)\n",
    "%time challenge_clip.write_videofile(challenge_output, audio=False)"
   ]
  },
  {
   "cell_type": "code",
   "execution_count": null,
   "metadata": {
    "ExecuteTime": {
     "end_time": "2017-01-24T02:22:33.466968",
     "start_time": "2017-01-23T18:22:32.370Z"
    },
    "collapsed": false
   },
   "outputs": [],
   "source": [
    "HTML(\"\"\"\n",
    "<video width=\"960\" height=\"540\" controls>\n",
    "  <source src=\"{0}\">\n",
    "</video>\n",
    "\"\"\".format(challenge_output))"
   ]
  }
 ],
 "metadata": {
  "anaconda-cloud": {},
  "kernelspec": {
   "display_name": "Python 3",
   "language": "python",
   "name": "python3"
  },
  "language_info": {
   "codemirror_mode": {
    "name": "ipython",
    "version": 3
   },
   "file_extension": ".py",
   "mimetype": "text/x-python",
   "name": "python",
   "nbconvert_exporter": "python",
   "pygments_lexer": "ipython3",
   "version": "3.5.2"
  },
  "toc": {
   "colors": {
    "hover_highlight": "#DAA520",
    "running_highlight": "#FF0000",
    "selected_highlight": "#FFD700"
   },
   "moveMenuLeft": true,
   "nav_menu": {
    "height": "121px",
    "width": "252px"
   },
   "navigate_menu": true,
   "number_sections": true,
   "sideBar": true,
   "threshold": 4,
   "toc_cell": false,
   "toc_section_display": "block",
   "toc_window_display": false
  },
  "widgets": {
   "state": {
    "0e25d05e6b694966b0309bd2254a2991": {
     "views": []
    },
    "1201e0a64e8f48638a1f616a75728c3b": {
     "views": []
    },
    "1b27bdccd0e444a288dff873dfb15ede": {
     "views": []
    },
    "1ba63fa6300e4a5cbce2f7a9228b720d": {
     "views": []
    },
    "2867c0f52b9e429098e81ba1d3b5cd04": {
     "views": []
    },
    "35e9076fbd01413db308bf146993f9a6": {
     "views": []
    },
    "39f091f3bab24e8fa13eaa844912acfb": {
     "views": []
    },
    "412d267400a0431f98b7c42f420eab94": {
     "views": []
    },
    "439e8d3c3e3d4e8d865e9737fae5ddc8": {
     "views": []
    },
    "4428a9cf3feb4b5f83a582365bfcd994": {
     "views": []
    },
    "578b5b3440144d059f9fe24aac63008d": {
     "views": []
    },
    "5dbc1a8ca15a40debf8c5e57fa40d7ec": {
     "views": []
    },
    "71468b6e9cab4e0a884ed51883fe516f": {
     "views": []
    },
    "8e0dc19e2fc2456881cf47b2aacdca6e": {
     "views": []
    },
    "9732e45fd6034369a99013839067d1bd": {
     "views": []
    },
    "c1fff4555431489baa4952c0850e01fd": {
     "views": []
    },
    "c300a9f9b6b24c27ad505aa68a0a90b9": {
     "views": []
    },
    "d44278ab7008476e87208118b85f8c85": {
     "views": []
    },
    "f44ec8318d224cb1998ea8c2262759da": {
     "views": []
    },
    "f9ebdf5905624e1285f5da5dba750b53": {
     "views": []
    }
   },
   "version": "1.1.2"
  }
 },
 "nbformat": 4,
 "nbformat_minor": 0
}
